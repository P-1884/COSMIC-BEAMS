{
 "cells": [
  {
   "cell_type": "code",
   "execution_count": null,
   "metadata": {},
   "outputs": [],
   "source": [
    "from sklearn.neighbors import KernelDensity\n",
    "import sys\n",
    "sys.path.append('/mnt/users/hollowayp/paltas')\n",
    "from KDE_one_stop import drop_extra_columns,hyperparam_range_dict,one_stop_kde\n",
    "from Save_Summary_Batches import summary_batch\n",
    "from squash_walkers import squash_walkers\n",
    "from load_h5_file import load_h5_file\n",
    "import matplotlib.pyplot as pl\n",
    "from KDEpy import TreeKDE\n",
    "import pandas as pd\n",
    "import numpy as np\n",
    "import pickle\n",
    "import corner\n"
   ]
  },
  {
   "cell_type": "code",
   "execution_count": null,
   "metadata": {},
   "outputs": [],
   "source": [
    "import pickle\n",
    "with open('/mnt/extraspace/hollowayp/zBEAMS_data/class_instances/one_stop_kde_subbatch', 'rb') as f:\n",
    "    data = pickle.load(f)"
   ]
  },
  {
   "cell_type": "code",
   "execution_count": null,
   "metadata": {},
   "outputs": [],
   "source": [
    "print('Loading data')\n",
    "db = pd.read_csv('./test_data_for_download.csv')\n",
    "db.drop('Unnamed: 0', axis=1, inplace=True)\n",
    "\n",
    "db = db[['OM',\n",
    "         'Ode','w','wa',\n",
    "    'alpha_scale_0','alpha_scale_1',\n",
    "    'alpha_scale_2',\n",
    "    'alpha_mu_0','alpha_mu_1','alpha_mu_2',\n",
    "    'alpha_weights_0','alpha_weights_1',\n",
    "    's_c','s_m',\n",
    "    'scale_c','scale_m']]\n",
    "\n",
    "# db = db[['OM',\n",
    "#         #  'Ode','w','wa',\n",
    "#     # 'alpha_scale_0','alpha_scale_1',\n",
    "#     'alpha_scale_2',\n",
    "#     # 'alpha_mu_0','alpha_mu_1','alpha_mu_2',\n",
    "#     'alpha_weights_0','alpha_weights_1',\n",
    "#     # 's_c','s_m',\n",
    "#     'scale_c','scale_m']]\n",
    "\n",
    "range_dict = {elem: [db[elem].min(), db[elem].max()] for elem in db.columns}\n",
    "range_min_array = np.array([range_dict[elem][0] for elem in db.columns])\n",
    "range_max_array = np.array([range_dict[elem][1] for elem in db.columns])\n",
    "\n",
    "db = ((db-range_min_array)/(range_max_array-range_min_array)) #Rescaling to [0,1]\n"
   ]
  },
  {
   "cell_type": "code",
   "execution_count": null,
   "metadata": {},
   "outputs": [],
   "source": [
    "N_comp = 1000;type='KDE'\n",
    "samples_equal = pd.read_csv(f'/mnt/extraspace/hollowayp/zBEAMS_data/dynesty_samples/dynesty_samples_{type}_{N_comp}.csv')\n",
    "samples_equal.drop('Unnamed: 0', axis=1, inplace=True)"
   ]
  },
  {
   "cell_type": "markdown",
   "metadata": {},
   "source": [
    "#### GMM Approximation"
   ]
  },
  {
   "cell_type": "code",
   "execution_count": null,
   "metadata": {},
   "outputs": [],
   "source": [
    "fig = pl.figure(figsize=(30,30))\n",
    "corner.corner(samples_equal,labels=db.columns.tolist(),fig=fig,plot_datapoints=False,\n",
    "hist_kwargs={'density':True},\n",
    "hist2d_kwargs={'label':'_nolegend_'},color='k',bins=50)\n",
    "\n",
    "# corner.corner(G1000.sample(len(db))[0],labels=db.columns.tolist(),fig=fig,plot_datapoints=False,\n",
    "# hist_kwargs={'density':True},\n",
    "# hist2d_kwargs={'label':'_nolegend_'},color='green',bins=50)\n",
    "\n",
    "corner.corner(db,labels=db.columns.tolist(),fig=fig,plot_datapoints=False,\n",
    "hist_kwargs={'density':True},\n",
    "hist2d_kwargs={'label':'_nolegend_'},color='darkred',bins=50)\n",
    "pl.tight_layout()\n",
    "pl.show()"
   ]
  },
  {
   "cell_type": "code",
   "execution_count": null,
   "metadata": {},
   "outputs": [],
   "source": [
    "\n",
    "# kernel='gaussian';bandwidth=0.01\n",
    "\n",
    "# kde = KernelDensity(kernel=kernel, bandwidth=bandwidth).fit(db.to_numpy())\n",
    "\n",
    "# kde = TreeKDE(kernel=kernel, bw=bandwidth).fit(data=db.to_numpy())"
   ]
  },
  {
   "cell_type": "code",
   "execution_count": null,
   "metadata": {},
   "outputs": [],
   "source": [
    "fig = pl.figure(figsize=(30,30))\n",
    "corner.corner(db,labels=db.columns.tolist(),fig=fig,plot_datapoints=False,\n",
    "hist_kwargs={'density':True},\n",
    "hist2d_kwargs={'label':'_nolegend_'},color='darkred',bins=50)\n",
    "pl.tight_layout()\n",
    "\n",
    "corner.corner(kde.sample(len(db)),labels=db.columns.tolist(),fig=fig,plot_datapoints=False,\n",
    "hist_kwargs={'density':True},\n",
    "hist2d_kwargs={'label':'_nolegend_'},color='k',bins=50)\n",
    "pl.tight_layout()\n",
    "pl.show()"
   ]
  },
  {
   "cell_type": "markdown",
   "metadata": {},
   "source": [
    "#### Parallel Tempering"
   ]
  },
  {
   "cell_type": "code",
   "execution_count": null,
   "metadata": {},
   "outputs": [],
   "source": [
    "temp_indx = 0\n",
    "param_indx = 0\n",
    "for chain_indx in range(10):\n",
    "    pl.plot(ptemcee_samples[temp_indx,chain_indx,:,param_indx],alpha=0.5)\n",
    "pl.show()"
   ]
  },
  {
   "cell_type": "code",
   "execution_count": null,
   "metadata": {},
   "outputs": [],
   "source": [
    "reload(sys.modules['run_ptemcee'])\n",
    "from run_ptemcee import run_ptemcee,gaussian_kde_product_log_prob,log_prior\n",
    "sampler = run_ptemcee(db,kde,ntemps=50,n_burnin=1,n_steps=1000,n_thin=1)\n",
    "ptemcee_samples = sampler.chain\n"
   ]
  },
  {
   "cell_type": "code",
   "execution_count": null,
   "metadata": {},
   "outputs": [],
   "source": [
    "ptemcee_samples.shape"
   ]
  },
  {
   "cell_type": "code",
   "execution_count": null,
   "metadata": {},
   "outputs": [],
   "source": [
    "for ntemps in [5,10,20,50,100]:\n",
    "    print(ntemps)\n",
    "    n_params = '_16'\n",
    "    ptemcee_samples = load_h5_file(f'/mnt/extraspace/hollowayp/zBEAMS_data/ptemcee_samples/ptemcee_chain_{ntemps}{n_params}.h5')\n",
    "    ptemcee_samples.shape\n",
    "\n",
    "    fig = pl.figure(figsize=(30,30))\n",
    "    corner.corner(db,labels=db.columns.tolist(),fig=fig,plot_datapoints=False,\n",
    "    hist_kwargs={'density':True},\n",
    "    hist2d_kwargs={'label':'_nolegend_'},color='darkred',bins=20,range=[(0,1) for i in range(len(db.columns))])\n",
    "    pl.tight_layout()\n",
    "\n",
    "    # corner.corner(kde.sample(len(db)),labels=db.columns.tolist(),fig=fig,plot_datapoints=False,\n",
    "    # hist_kwargs={'density':True},\n",
    "    # hist2d_kwargs={'label':'_nolegend_'},color='k',bins=50)\n",
    "\n",
    "    burnin = 0\n",
    "    corner.corner(ptemcee_samples[0,:,burnin:,:].reshape((-1,len(db.columns))),labels=db.columns.tolist(),fig=fig,plot_datapoints=False,\n",
    "    hist_kwargs={'density':True},\n",
    "    hist2d_kwargs={'label':'_nolegend_'},color='k',bins=20,range=[(0,1) for i in range(len(db.columns))])\n",
    "    pl.tight_layout()\n",
    "    # pl.savefig('./ptemcee_corner_plot.png')\n",
    "    # pl.close()\n",
    "    pl.show()\n",
    "\n"
   ]
  },
  {
   "cell_type": "markdown",
   "metadata": {},
   "source": [
    "#### KDE weighted Posterior (without MCMC)"
   ]
  },
  {
   "cell_type": "code",
   "execution_count": null,
   "metadata": {},
   "outputs": [],
   "source": [
    "#Works good with 3 dimensions, bandwidth = 0.05, metric=infin. 100,000 datapoints in db_0.\n",
    "#Works good with 6 dimensions and 12, bandwidth = 0.5.\n",
    "#Works good with 16 dimensions, bandwidth = 0.3."
   ]
  },
  {
   "cell_type": "code",
   "execution_count": null,
   "metadata": {},
   "outputs": [],
   "source": [
    "N_dim = 16\n",
    "print('Generating Data')\n",
    "# db_toy_0 = pd.DataFrame(np.random.normal(loc=0,scale=1,size=(100000,N_dim)))\n",
    "# db_toy_1 = pd.DataFrame(np.random.normal(loc=0,scale=1,size=(10000,N_dim)))\n",
    "# db_prod = pd.DataFrame(np.random.normal(loc=0,scale=1/np.sqrt(2),size=(10000,N_dim)))\n",
    "db_toy_0 = db[0];db_toy_1 = db[1]\n",
    "\n",
    "# db_lim = pd.concat([db_toy_0,db_toy_1],axis=0)\n",
    "# db_toy_0 = (db_toy_0-db_lim.min().to_numpy())/(db_lim.max().to_numpy()-db_lim.min().to_numpy())\n",
    "# db_toy_1 = (db_toy_1-db_lim.min().to_numpy())/(db_lim.max().to_numpy()-db_lim.min().to_numpy())\n",
    "# db_prod = (db_prod-db_lim.min().to_numpy())/(db_lim.max().to_numpy()-db_lim.min().to_numpy())\n",
    "\n",
    "# uniform_random = np.random.uniform(-lim,lim,size=(1000000,N_dim))\n",
    "lim = 1\n",
    "print('Running KDE')\n",
    "# kde_toy_0 = KernelDensity(bandwidth=0.5,kernel='gaussian',metric='infinity').fit(db_toy_0.to_numpy())\n",
    "# kde_toy_1 = KernelDensity(bandwidth=0.5,kernel='gaussian',metric='infinity').fit(db_toy_1.to_numpy())\n",
    "print('Corner Plotting')\n",
    "fig = pl.figure(figsize=(2*N_dim,2*N_dim))\n",
    "corner_dict = {'bins':30,\n",
    "            #    'range':[(0,lim) for elem in range(N_dim)],\n",
    "               'plot_datapoints':False,'fig':fig}\n",
    "print('Plotting 1')\n",
    "corner.corner(db_toy_0,color='red',**corner_dict,hist_kwargs={'density':True})\n",
    "corner.corner(db_toy_1,color='blue',hist_kwargs={'density':True},**corner_dict)\n",
    "# corner.corner(kde_toy_0.sample(len(db_toy_0)),fig=fig,color='k',hist_kwargs={'density':True})\n",
    "print('Plotting 2')\n",
    "# weights_0_1 = np.exp(kde_toy_0.score_samples(db_toy_1.to_numpy()))\n",
    "# weights_1_0 = np.exp(kde_toy_1.score_samples(db_toy_0.to_numpy()))\n",
    "corner.corner(db_toy_0,weights=weights_1_0,hist_kwargs={'density':True},color='purple',**corner_dict)\n",
    "corner.corner(db_toy_1,weights=weights_0_1,hist_kwargs={'density':True},color='green',**corner_dict)\n",
    "print('Plotting 3')\n",
    "# corner.corner(db_prod,color='green',**corner_dict,hist_kwargs={'density':True})\n",
    "# corner.corner(uniform_random,weights = np.exp(kde_toy_0.score_samples(uniform_random)),hist_kwargs={'density':True},color='purple',**corner_dict)\n",
    "pl.tight_layout()\n",
    "pl.show()\n",
    "# assert False - must be a bug as it doesn't square the answer when I weight a db by its own KDE?"
   ]
  },
  {
   "cell_type": "code",
   "execution_count": null,
   "metadata": {},
   "outputs": [],
   "source": [
    "for k_i in test_data_dict.keys():\n",
    "    print(np.sum(np.sum(np.isnan(test_data_dict[k_i]))))"
   ]
  },
  {
   "cell_type": "code",
   "execution_count": null,
   "metadata": {},
   "outputs": [],
   "source": [
    "db = test_data_dict\n",
    "\n",
    "# range_dict = {elem: [np.min([np.min(db[k_i][elem]) for k_i in db.keys()]),\n",
    "#                      np.max([np.max(db[k_i][elem]) for k_i in db.keys()])] for elem in db[0].columns}\n",
    "# range_min_array = np.array([range_dict[elem][0] for elem in db[0].columns])\n",
    "# range_max_array = np.array([range_dict[elem][1] for elem in db[0].columns])\n",
    "\n",
    "# for k_i in db.keys():\n",
    "#     db[k_i] = ((db[k_i]-range_min_array)/(range_max_array-range_min_array))\n",
    "\n",
    "std_dict = np.array([np.mean([np.std(db[k_i][elem]) for k_i in db.keys()]) for elem in db[0].columns])\n",
    "for k_i in db.keys():\n",
    "    db[k_i] = ((db[k_i]/std_dict))\n"
   ]
  },
  {
   "cell_type": "markdown",
   "metadata": {},
   "source": [
    "#### Corner Plots"
   ]
  },
  {
   "cell_type": "code",
   "execution_count": null,
   "metadata": {},
   "outputs": [],
   "source": [
    "from plot_JAX_corner import label_dict\n",
    "from tqdm import tqdm\n",
    "import corner\n",
    "def plot_kde_corner(self,only_cosmo=False,extra_data = None,save_as=None):\n",
    "    truth_dict = {'OM':0.3,'Ode':0.7,'w':-1,'wa':0,'Ok':0}\n",
    "    try: self.kde_dict\n",
    "    except: self.determine_kde()\n",
    "    try: self.weights_dict\n",
    "    except: self.calculate_weights()\n",
    "    print('Starting Corner Plot')\n",
    "    if only_cosmo:\n",
    "        columns_to_plot = ['OM','Ode','w','wa']#,'Ok']\n",
    "        range_list = [hyperparam_range_dict[k_i] for k_i in columns_to_plot]\n",
    "        label_list = [label_dict[k_i] for k_i in columns_to_plot]\n",
    "        N_dim = len(columns_to_plot)\n",
    "        truths = [truth_dict[k_i] for k_i in columns_to_plot]\n",
    "    else:\n",
    "        N_dim = len(self.JAX_chain_dict[0].columns)\n",
    "        range_list = [hyperparam_range_dict[k_i] for k_i in self.JAX_chain_dict[0].columns]\n",
    "        label_list = None\n",
    "        columns_to_plot = self.JAX_chain_dict[0].columns\n",
    "        truths=None\n",
    "    fig = pl.figure(figsize=(2*N_dim,2*N_dim))\n",
    "    corner_dict = {'bins':30,\n",
    "                'range':range_list,\n",
    "                'plot_datapoints':False,'fig':fig,'labels':label_list,'truths':truths, 'truth_color':'k'}\n",
    "    self.total_weights = []\n",
    "    for dataset_0_key in tqdm(self.scaled_JAX_chain_dict.keys()):\n",
    "        dataset_0 = self.JAX_chain_dict[dataset_0_key]\n",
    "        scaled_dataset_0 = self.scaled_JAX_chain_dict[dataset_0_key]\n",
    "        weights = np.zeros(len(dataset_0))\n",
    "        for additional_weights_key in self.scaled_JAX_chain_dict.keys():\n",
    "            if dataset_0_key==additional_weights_key: continue\n",
    "            weights+=self.weights_dict[additional_weights_key][dataset_0_key]\n",
    "        corner.corner(dataset_0[columns_to_plot],                color='red',hist_kwargs={'density':True},**corner_dict)\n",
    "        corner.corner(dataset_0[columns_to_plot],weights=weights,color='grey',hist_kwargs={'density':True},**corner_dict)\n",
    "        pl.tight_layout()\n",
    "        self.total_weights.extend(weights)\n",
    "    # return self\n",
    "    corner.corner(pd.concat(self.JAX_chain_dict)[columns_to_plot],weights=self.total_weights,\n",
    "                    color='k',hist_kwargs={'density':True},**corner_dict)\n",
    "    if extra_data is not None:\n",
    "        corner.corner(extra_data[columns_to_plot],color='blue',hist_kwargs={'density':True},**corner_dict)\n",
    "    if save_as is not None:\n",
    "        pl.savefig(save_as)\n",
    "        pl.close()\n",
    "    else: pl.show()\n",
    "    print('Finished Corner Plot')\n",
    "    return self\n"
   ]
  },
  {
   "cell_type": "code",
   "execution_count": null,
   "metadata": {},
   "outputs": [],
   "source": [
    "with open('/mnt/extraspace/hollowayp/zBEAMS_data/class_instances/python3.11-Subbatching_0_0-64171.out_10_10_pickle.pkl', 'rb') as f:\n",
    "    summary_batch_subbatching = pickle.load(f)"
   ]
  },
  {
   "cell_type": "code",
   "execution_count": null,
   "metadata": {},
   "outputs": [],
   "source": [
    "import pandas as pd\n",
    "db = pd.read_csv('/mnt/extraspace/hollowayp/zBEAMS_data/chains/SL_orig_real_paltas_population_TP_10390_FP_48610_Spec_990_P_0.2_Part_0.csv_ph_True_con_True_wCDM_JAX_chains_21_0_16364_warmup.csv')\n",
    "# list(db.filter(like='zL').columns)"
   ]
  },
  {
   "cell_type": "markdown",
   "metadata": {},
   "source": [
    "#### KDE Optimisation"
   ]
  },
  {
   "cell_type": "code",
   "execution_count": null,
   "metadata": {},
   "outputs": [],
   "source": [
    "X_plot = np.linspace(0,1,10000)\n",
    "OM_samples = squash_walkers(summary_batch_subbatching.JAX_chains_list[0].filter(like='OM')).to_numpy()\n",
    "OM_samples_2 = squash_walkers(summary_batch_subbatching.JAX_chains_list[1].filter(like='OM')).to_numpy()\n",
    "for kernel in ['tophat','gaussian']:\n",
    "    for bandwidth in tqdm([0.01,0.05,0.1,0.5,1.0]):\n",
    "        kde_OM = KernelDensity(bandwidth=bandwidth,kernel=kernel).fit(np.array(OM_samples))\n",
    "        OM_score_2 = np.exp(kde_OM.score_samples(OM_samples_2))\n",
    "        pl.plot(X_plot,np.exp(kde_OM.score_samples(X_plot.reshape(-1,1))),\n",
    "                label=f'{kernel}, {bandwidth},'+\\\n",
    "                f' Score: {np.round(np.mean(OM_score_2),3)},{np.round(np.median(OM_score_2),3)}')\n",
    "pl.legend()\n",
    "pl.show()"
   ]
  },
  {
   "cell_type": "code",
   "execution_count": null,
   "metadata": {},
   "outputs": [],
   "source": [
    "# with open('/mnt/extraspace/hollowayp/zBEAMS_data/class_instances/python3.11-Fiducial_0_0-63921.out_5_10_pickle.pkl','rb') as f:\n",
    "#     summary_batch_fiducial = pickle.load(f)\n",
    "\n",
    "for extra_str in ['_True_0','_True_1']:#'']:\n",
    "    for metric in ['infinity','euclidean']:\n",
    "        for kernel in ['gaussian']:#,'tophat','exponential']:\n",
    "            for bandwidth in [1.0]:#[0.001,0.01,0.05,0.1,0.2,0.5,1.0]:\n",
    "                with open(f'/mnt/extraspace/hollowayp/zBEAMS_data/class_instances/'+\\\n",
    "                        f'one_stop_kde_subbatch_{metric}_{kernel}_{bandwidth}{extra_str}.pkl', 'rb') as f:\n",
    "                    osk = pickle.load(f)\n",
    "                    print(metric,kernel,bandwidth)\n",
    "                    plot_kde_corner(osk,only_cosmo=True,\n",
    "                                extra_data = squash_walkers(drop_extra_columns(summary_batch_fiducial.JAX_chains_list[0])),\n",
    "                                # save_as = f'/mnt/extraspace/hollowayp/zBEAMS_data/corner_plots/one_stop_kde_subbatch_{metric}_{kernel}_{bandwidth}.png'\n",
    "                                )"
   ]
  },
  {
   "cell_type": "markdown",
   "metadata": {},
   "source": [
    "#### KDE (without MCMC) Results"
   ]
  },
  {
   "cell_type": "code",
   "execution_count": null,
   "metadata": {},
   "outputs": [],
   "source": [
    "import sys\n",
    "from importlib import reload\n",
    "reload(sys.modules['KDE_one_stop'])\n",
    "from KDE_one_stop import one_stop_kde\n",
    "\n",
    "osk_subbatching_dict = {}\n",
    "for kernel in ['gaussian']:\n",
    "    for metric in ['infinity']:\n",
    "        for bandwidth in [0.01,0.1,0.3,0.5,1.0]:\n",
    "            test_data_dict = {}\n",
    "            for chain_i in tqdm(range(5)):\n",
    "                test_data_dict[chain_i] = squash_walkers(drop_extra_columns(summary_batch_subbatching.JAX_chains_list[chain_i],#.loc[:1999],\n",
    "                                                                            Ok=True,alpha_weights_2=True))\n",
    "            osk_subbatching_dict[(kernel,metric,bandwidth)] = one_stop_kde(test_data_dict,\n",
    "                                                                       bandwidth = bandwidth,\n",
    "                                                                       kernel=kernel,\n",
    "                                                                       metric=metric).calculate_weights()\n",
    "\n",
    "for k_i in osk_subbatching_dict.keys():\n",
    "    plot_kde_corner(osk_subbatching_dict[k_i],only_cosmo=True)\n",
    "                                              "
   ]
  }
 ],
 "metadata": {
  "kernelspec": {
   "display_name": "vs_code_python114_archive_zBEAMS",
   "language": "python",
   "name": "python3"
  },
  "language_info": {
   "codemirror_mode": {
    "name": "ipython",
    "version": 3
   },
   "file_extension": ".py",
   "mimetype": "text/x-python",
   "name": "python",
   "nbconvert_exporter": "python",
   "pygments_lexer": "ipython3",
   "version": "3.11.4"
  }
 },
 "nbformat": 4,
 "nbformat_minor": 2
}
